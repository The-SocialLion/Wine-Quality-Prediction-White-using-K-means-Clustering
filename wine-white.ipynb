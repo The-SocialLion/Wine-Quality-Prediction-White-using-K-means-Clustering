{
  "nbformat": 4,
  "nbformat_minor": 0,
  "metadata": {
    "colab": {
      "name": "Untitled47.ipynb",
      "provenance": [],
      "collapsed_sections": []
    },
    "kernelspec": {
      "name": "python3",
      "display_name": "Python 3"
    }
  },
  "cells": [
    {
      "cell_type": "code",
      "metadata": {
        "id": "CeAb2ICUmM_j"
      },
      "source": [
        "import numpy as np\n",
        "import pandas as pd\n",
        "import matplotlib.pyplot as plt\n",
        "import random as rd"
      ],
      "execution_count": 1,
      "outputs": []
    },
    {
      "cell_type": "code",
      "metadata": {
        "id": "w7p5sBj2Vyh-"
      },
      "source": [
        "m_map={\n",
        "    4:1,\n",
        "    5:2,\n",
        "    6:3,\n",
        "    7:4,\n",
        "    8:5\n",
        "}"
      ],
      "execution_count": 67,
      "outputs": []
    },
    {
      "cell_type": "code",
      "metadata": {
        "id": "pReMQQqkCbIF",
        "outputId": "ad5ef168-31d9-4382-eceb-6b06378fb748",
        "colab": {
          "base_uri": "https://localhost:8080/",
          "height": 470
        }
      },
      "source": [
        "df=pd.read_csv('winequality-white.csv')\n",
        "df['Overall Acidity']=df['fixed acidity']+df['volatile acidity']\n",
        "df['Average Acidity']=(df['fixed acidity']+df['volatile acidity'])/2\n",
        "df['sulfur dioxide content']=df['free sulfur dioxide']+df['total sulfur dioxide']\n",
        "df['Average sulfur dioxide content']=(df['free sulfur dioxide']+df['total sulfur dioxide'])/2\n",
        "df=df.dropna(how='any')\n",
        "df['quality check']=df['quality'].map(m_map)\n",
        "df['quality check'] = df['quality check'].fillna(0)\n",
        "df['quality check']=df['quality check'].astype(int)\n",
        "df=df.drop(columns=['fixed acidity','volatile acidity','free sulfur dioxide','total sulfur dioxide','quality'])\n",
        "display(df)\n"
      ],
      "execution_count": 68,
      "outputs": [
        {
          "output_type": "display_data",
          "data": {
            "text/html": [
              "<div>\n",
              "<style scoped>\n",
              "    .dataframe tbody tr th:only-of-type {\n",
              "        vertical-align: middle;\n",
              "    }\n",
              "\n",
              "    .dataframe tbody tr th {\n",
              "        vertical-align: top;\n",
              "    }\n",
              "\n",
              "    .dataframe thead th {\n",
              "        text-align: right;\n",
              "    }\n",
              "</style>\n",
              "<table border=\"1\" class=\"dataframe\">\n",
              "  <thead>\n",
              "    <tr style=\"text-align: right;\">\n",
              "      <th></th>\n",
              "      <th>citric acid</th>\n",
              "      <th>residual sugar</th>\n",
              "      <th>chlorides</th>\n",
              "      <th>density</th>\n",
              "      <th>pH</th>\n",
              "      <th>sulphates</th>\n",
              "      <th>alcohol</th>\n",
              "      <th>Overall Acidity</th>\n",
              "      <th>Average Acidity</th>\n",
              "      <th>sulfur dioxide content</th>\n",
              "      <th>Average sulfur dioxide content</th>\n",
              "      <th>quality check</th>\n",
              "    </tr>\n",
              "  </thead>\n",
              "  <tbody>\n",
              "    <tr>\n",
              "      <th>0</th>\n",
              "      <td>0.36</td>\n",
              "      <td>20.7</td>\n",
              "      <td>0.045</td>\n",
              "      <td>1.00100</td>\n",
              "      <td>3.00</td>\n",
              "      <td>0.45</td>\n",
              "      <td>8.8</td>\n",
              "      <td>7.27</td>\n",
              "      <td>3.635</td>\n",
              "      <td>215.0</td>\n",
              "      <td>107.5</td>\n",
              "      <td>3</td>\n",
              "    </tr>\n",
              "    <tr>\n",
              "      <th>1</th>\n",
              "      <td>0.34</td>\n",
              "      <td>1.6</td>\n",
              "      <td>0.049</td>\n",
              "      <td>0.99400</td>\n",
              "      <td>3.30</td>\n",
              "      <td>0.49</td>\n",
              "      <td>9.5</td>\n",
              "      <td>6.60</td>\n",
              "      <td>3.300</td>\n",
              "      <td>146.0</td>\n",
              "      <td>73.0</td>\n",
              "      <td>3</td>\n",
              "    </tr>\n",
              "    <tr>\n",
              "      <th>2</th>\n",
              "      <td>0.40</td>\n",
              "      <td>6.9</td>\n",
              "      <td>0.050</td>\n",
              "      <td>0.99510</td>\n",
              "      <td>3.26</td>\n",
              "      <td>0.44</td>\n",
              "      <td>10.1</td>\n",
              "      <td>8.38</td>\n",
              "      <td>4.190</td>\n",
              "      <td>127.0</td>\n",
              "      <td>63.5</td>\n",
              "      <td>3</td>\n",
              "    </tr>\n",
              "    <tr>\n",
              "      <th>3</th>\n",
              "      <td>0.32</td>\n",
              "      <td>8.5</td>\n",
              "      <td>0.058</td>\n",
              "      <td>0.99560</td>\n",
              "      <td>3.19</td>\n",
              "      <td>0.40</td>\n",
              "      <td>9.9</td>\n",
              "      <td>7.43</td>\n",
              "      <td>3.715</td>\n",
              "      <td>233.0</td>\n",
              "      <td>116.5</td>\n",
              "      <td>3</td>\n",
              "    </tr>\n",
              "    <tr>\n",
              "      <th>4</th>\n",
              "      <td>0.32</td>\n",
              "      <td>8.5</td>\n",
              "      <td>0.058</td>\n",
              "      <td>0.99560</td>\n",
              "      <td>3.19</td>\n",
              "      <td>0.40</td>\n",
              "      <td>9.9</td>\n",
              "      <td>7.43</td>\n",
              "      <td>3.715</td>\n",
              "      <td>233.0</td>\n",
              "      <td>116.5</td>\n",
              "      <td>3</td>\n",
              "    </tr>\n",
              "    <tr>\n",
              "      <th>...</th>\n",
              "      <td>...</td>\n",
              "      <td>...</td>\n",
              "      <td>...</td>\n",
              "      <td>...</td>\n",
              "      <td>...</td>\n",
              "      <td>...</td>\n",
              "      <td>...</td>\n",
              "      <td>...</td>\n",
              "      <td>...</td>\n",
              "      <td>...</td>\n",
              "      <td>...</td>\n",
              "      <td>...</td>\n",
              "    </tr>\n",
              "    <tr>\n",
              "      <th>4893</th>\n",
              "      <td>0.29</td>\n",
              "      <td>1.6</td>\n",
              "      <td>0.039</td>\n",
              "      <td>0.99114</td>\n",
              "      <td>3.27</td>\n",
              "      <td>0.50</td>\n",
              "      <td>11.2</td>\n",
              "      <td>6.41</td>\n",
              "      <td>3.205</td>\n",
              "      <td>116.0</td>\n",
              "      <td>58.0</td>\n",
              "      <td>3</td>\n",
              "    </tr>\n",
              "    <tr>\n",
              "      <th>4894</th>\n",
              "      <td>0.36</td>\n",
              "      <td>8.0</td>\n",
              "      <td>0.047</td>\n",
              "      <td>0.99490</td>\n",
              "      <td>3.15</td>\n",
              "      <td>0.46</td>\n",
              "      <td>9.6</td>\n",
              "      <td>6.92</td>\n",
              "      <td>3.460</td>\n",
              "      <td>225.0</td>\n",
              "      <td>112.5</td>\n",
              "      <td>2</td>\n",
              "    </tr>\n",
              "    <tr>\n",
              "      <th>4895</th>\n",
              "      <td>0.19</td>\n",
              "      <td>1.2</td>\n",
              "      <td>0.041</td>\n",
              "      <td>0.99254</td>\n",
              "      <td>2.99</td>\n",
              "      <td>0.46</td>\n",
              "      <td>9.4</td>\n",
              "      <td>6.74</td>\n",
              "      <td>3.370</td>\n",
              "      <td>141.0</td>\n",
              "      <td>70.5</td>\n",
              "      <td>3</td>\n",
              "    </tr>\n",
              "    <tr>\n",
              "      <th>4896</th>\n",
              "      <td>0.30</td>\n",
              "      <td>1.1</td>\n",
              "      <td>0.022</td>\n",
              "      <td>0.98869</td>\n",
              "      <td>3.34</td>\n",
              "      <td>0.38</td>\n",
              "      <td>12.8</td>\n",
              "      <td>5.79</td>\n",
              "      <td>2.895</td>\n",
              "      <td>130.0</td>\n",
              "      <td>65.0</td>\n",
              "      <td>4</td>\n",
              "    </tr>\n",
              "    <tr>\n",
              "      <th>4897</th>\n",
              "      <td>0.38</td>\n",
              "      <td>0.8</td>\n",
              "      <td>0.020</td>\n",
              "      <td>0.98941</td>\n",
              "      <td>3.26</td>\n",
              "      <td>0.32</td>\n",
              "      <td>11.8</td>\n",
              "      <td>6.21</td>\n",
              "      <td>3.105</td>\n",
              "      <td>120.0</td>\n",
              "      <td>60.0</td>\n",
              "      <td>3</td>\n",
              "    </tr>\n",
              "  </tbody>\n",
              "</table>\n",
              "<p>4898 rows × 12 columns</p>\n",
              "</div>"
            ],
            "text/plain": [
              "      citric acid  ...  quality check\n",
              "0            0.36  ...              3\n",
              "1            0.34  ...              3\n",
              "2            0.40  ...              3\n",
              "3            0.32  ...              3\n",
              "4            0.32  ...              3\n",
              "...           ...  ...            ...\n",
              "4893         0.29  ...              3\n",
              "4894         0.36  ...              2\n",
              "4895         0.19  ...              3\n",
              "4896         0.30  ...              4\n",
              "4897         0.38  ...              3\n",
              "\n",
              "[4898 rows x 12 columns]"
            ]
          },
          "metadata": {
            "tags": []
          }
        }
      ]
    },
    {
      "cell_type": "code",
      "metadata": {
        "id": "ItiZ_ai-Fux5"
      },
      "source": [
        "X=df.iloc[:,:-1].values\n",
        "Y=df.iloc[:,-1].values\n"
      ],
      "execution_count": 69,
      "outputs": []
    },
    {
      "cell_type": "code",
      "metadata": {
        "id": "i4WwJNT8Gd6O",
        "outputId": "f1007421-bf57-4103-c24e-34b223a4ddd1",
        "colab": {
          "base_uri": "https://localhost:8080/",
          "height": 295
        }
      },
      "source": [
        "from sklearn.cluster import KMeans\n",
        "wcss=[]\n",
        "for i in range(1,31):\n",
        "   k_means=KMeans(n_clusters=i,init='k-means++',random_state=0)\n",
        "   k_means.fit(X)\n",
        "   wcss.append(k_means.inertia_)\n",
        "plt.plot(range(1, 31), wcss)\n",
        "plt.title('The Elbow Method')\n",
        "plt.xlabel('Number of clusters')\n",
        "plt.ylabel('WCSS')\n",
        "plt.show()"
      ],
      "execution_count": 70,
      "outputs": [
        {
          "output_type": "display_data",
          "data": {
            "image/png": "[encoded data removed]",
            "text/plain": [
              "<Figure size 432x288 with 1 Axes>"
            ]
          },
          "metadata": {
            "tags": [],
            "needs_background": "light"
          }
        }
      ]
    },
    {
      "cell_type": "code",
      "metadata": {
        "id": "1zm84PvoJ56u"
      },
      "source": [
        "from sklearn.cluster import KMeans\n",
        "kmeans = KMeans(n_clusters = 6, init = 'k-means++', random_state = 42)\n",
        "y_pred = kmeans.fit_predict(X)"
      ],
      "execution_count": 79,
      "outputs": []
    },
    {
      "cell_type": "code",
      "metadata": {
        "id": "wjLizhgdKq7A",
        "outputId": "4db215d7-843c-4508-c95d-aa1873f4deb4",
        "colab": {
          "base_uri": "https://localhost:8080/"
        }
      },
      "source": [
        "y_pred"
      ],
      "execution_count": 80,
      "outputs": [
        {
          "output_type": "execute_result",
          "data": {
            "text/plain": [
              "array([5, 1, 2, ..., 2, 2, 2], dtype=int32)"
            ]
          },
          "metadata": {
            "tags": []
          },
          "execution_count": 80
        }
      ]
    },
    {
      "cell_type": "markdown",
      "metadata": {
        "id": "QW8ftlurcBx6"
      },
      "source": [
        "Clustering Accuracy Score"
      ]
    },
    {
      "cell_type": "code",
      "metadata": {
        "id": "TSy28mA5anvP",
        "outputId": "4f5d799d-10b1-4e48-ebb1-fd6804ed90ab",
        "colab": {
          "base_uri": "https://localhost:8080/"
        }
      },
      "source": [
        "from sklearn import metrics\n",
        "metrics.adjusted_rand_score(Y,y_pred)"
      ],
      "execution_count": 83,
      "outputs": [
        {
          "output_type": "execute_result",
          "data": {
            "text/plain": [
              "0.009438027883311446"
            ]
          },
          "metadata": {
            "tags": []
          },
          "execution_count": 83
        }
      ]
    },
    {
      "cell_type": "code",
      "metadata": {
        "id": "etiLdjY-baTr",
        "outputId": "c948549f-3ced-4151-9404-3122c0e1fda6",
        "colab": {
          "base_uri": "https://localhost:8080/"
        }
      },
      "source": [
        "metrics.adjusted_mutual_info_score(Y,y_pred)  "
      ],
      "execution_count": 84,
      "outputs": [
        {
          "output_type": "execute_result",
          "data": {
            "text/plain": [
              "0.02241201229399986"
            ]
          },
          "metadata": {
            "tags": []
          },
          "execution_count": 84
        }
      ]
    },
    {
      "cell_type": "markdown",
      "metadata": {
        "id": "cIbFY9pCb7TV"
      },
      "source": [
        "Classification accuracy score"
      ]
    },
    {
      "cell_type": "code",
      "metadata": {
        "id": "cD085TVdaYvf",
        "outputId": "16e006e4-c4d3-4787-df0a-b797900528e2",
        "colab": {
          "base_uri": "https://localhost:8080/"
        }
      },
      "source": [
        "from sklearn.metrics import confusion_matrix, accuracy_score\n",
        "cm = confusion_matrix(Y, y_pred)\n",
        "print(cm)\n",
        "accuracy_score(Y, y_pred)*100"
      ],
      "execution_count": 86,
      "outputs": [
        {
          "output_type": "stream",
          "text": [
            "[[  5   3   7   4   4   2]\n",
            " [  5  19  42  20  49  28]\n",
            " [125 298 226 319 131 358]\n",
            " [109 546 547 328 201 467]\n",
            " [ 12 274 276  59  81 178]\n",
            " [ 10  53  47   7  17  41]]\n"
          ],
          "name": "stdout"
        },
        {
          "output_type": "execute_result",
          "data": {
            "text/plain": [
              "14.291547570436913"
            ]
          },
          "metadata": {
            "tags": []
          },
          "execution_count": 86
        }
      ]
    }
  ]
}